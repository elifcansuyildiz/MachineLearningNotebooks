{
 "cells": [
  {
   "cell_type": "markdown",
   "metadata": {},
   "source": [
    "# PYSPARK MACHINE LEARNING LIBRARY NOTES  \n",
    "ELİF CANSU YILDIZ"
   ]
  },
  {
   "cell_type": "code",
   "execution_count": 1,
   "metadata": {},
   "outputs": [],
   "source": [
    "from pyspark.sql import SparkSession\n",
    "from pyspark.ml.feature import OneHotEncoderEstimator, StringIndexer, VectorAssembler, MinMaxScaler\n",
    "from pyspark.sql.types import *\n",
    "from pyspark.ml import Pipeline\n",
    "from pyspark.sql.functions import lit,col"
   ]
  },
  {
   "cell_type": "code",
   "execution_count": 2,
   "metadata": {},
   "outputs": [],
   "source": [
    "spark = SparkSession\\\n",
    "    .builder\\\n",
    "    .appName(\"MachineLearningNotes\")\\\n",
    "    .getOrCreate()"
   ]
  },
  {
   "cell_type": "code",
   "execution_count": 3,
   "metadata": {},
   "outputs": [
    {
     "name": "stdout",
     "output_type": "stream",
     "text": [
      "root\n",
      " |-- age: integer (nullable = true)\n",
      " |-- fnlwgt: float (nullable = true)\n",
      " |-- education: string (nullable = true)\n",
      " |-- education_num: float (nullable = true)\n",
      " |-- marital_status: string (nullable = true)\n",
      " |-- relationship: string (nullable = true)\n",
      " |-- race: string (nullable = true)\n",
      " |-- sex: string (nullable = true)\n",
      " |-- capital_gain: float (nullable = true)\n",
      " |-- capital_loss: float (nullable = true)\n",
      " |-- hours_per_week: float (nullable = true)\n",
      "\n"
     ]
    }
   ],
   "source": [
    "schema = StructType([StructField(\"age\",IntegerType(), True),\n",
    "                    StructField(\"fnlwgt\", FloatType(), True),\n",
    "                    StructField(\"education\", StringType(), True),\n",
    "                    StructField(\"education_num\", FloatType(), True),\n",
    "                    StructField(\"marital_status\", StringType(), True),\n",
    "                    StructField(\"relationship\", StringType(), True),\n",
    "                    StructField(\"race\", StringType(), True),\n",
    "                    StructField(\"sex\", StringType(), True),\n",
    "                    StructField(\"capital_gain\", FloatType(), True),\n",
    "                    StructField(\"capital_loss\", FloatType(), True),\n",
    "                    StructField(\"hours_per_week\", FloatType(), True)])\n",
    "\n",
    "df = spark.read.csv(\"dataset.csv\", schema=schema)\n",
    "df.printSchema()"
   ]
  },
  {
   "cell_type": "code",
   "execution_count": 184,
   "metadata": {},
   "outputs": [
    {
     "name": "stdout",
     "output_type": "stream",
     "text": [
      "+---+--------+-------------+-------------+--------------------+---------------+-------------------+-------+------------+\n",
      "|age|  fnlwgt|    education|education_num|      marital_status|   relationship|               race|    sex|capital_gain|\n",
      "+---+--------+-------------+-------------+--------------------+---------------+-------------------+-------+------------+\n",
      "| 39| 77516.0|    Bachelors|         13.0|       Never-married|  Not-in-family|              White|   Male|      2174.0|\n",
      "| 50| 83311.0|    Bachelors|         13.0|  Married-civ-spouse|        Husband|              White|   Male|         0.0|\n",
      "| 38|215646.0|      HS-grad|          9.0|            Divorced|  Not-in-family|              White|   Male|         0.0|\n",
      "| 53|234721.0|         11th|          7.0|  Married-civ-spouse|        Husband|              Black|   Male|         0.0|\n",
      "| 28|338409.0|    Bachelors|         13.0|  Married-civ-spouse|           Wife|              Black| Female|         0.0|\n",
      "| 37|284582.0|      Masters|         14.0|  Married-civ-spouse|           Wife|              White| Female|         0.0|\n",
      "| 49|160187.0|          9th|          5.0| Married-spouse-a...|  Not-in-family|              Black| Female|         0.0|\n",
      "| 52|209642.0|      HS-grad|          9.0|  Married-civ-spouse|        Husband|              White|   Male|         0.0|\n",
      "| 31| 45781.0|      Masters|         14.0|       Never-married|  Not-in-family|              White| Female|     14084.0|\n",
      "| 42|159449.0|    Bachelors|         13.0|  Married-civ-spouse|        Husband|              White|   Male|      5178.0|\n",
      "| 37|280464.0| Some-college|         10.0|  Married-civ-spouse|        Husband|              Black|   Male|         0.0|\n",
      "| 30|141297.0|    Bachelors|         13.0|  Married-civ-spouse|        Husband| Asian-Pac-Islander|   Male|         0.0|\n",
      "| 23|122272.0|    Bachelors|         13.0|       Never-married|      Own-child|              White| Female|         0.0|\n",
      "| 32|205019.0|   Assoc-acdm|         12.0|       Never-married|  Not-in-family|              Black|   Male|         0.0|\n",
      "| 40|121772.0|    Assoc-voc|         11.0|  Married-civ-spouse|        Husband| Asian-Pac-Islander|   Male|         0.0|\n",
      "| 34|245487.0|      7th-8th|          4.0|  Married-civ-spouse|        Husband| Amer-Indian-Eskimo|   Male|         0.0|\n",
      "| 25|176756.0|      HS-grad|          9.0|       Never-married|      Own-child|              White|   Male|         0.0|\n",
      "| 32|186824.0|      HS-grad|          9.0|       Never-married|      Unmarried|              White|   Male|         0.0|\n",
      "| 38| 28887.0|         11th|          7.0|  Married-civ-spouse|        Husband|              White|   Male|         0.0|\n",
      "| 43|292175.0|      Masters|         14.0|            Divorced|      Unmarried|              White| Female|         0.0|\n",
      "+---+--------+-------------+-------------+--------------------+---------------+-------------------+-------+------------+\n",
      "\n",
      "+------------+--------------+\n",
      "|capital_loss|hours_per_week|\n",
      "+------------+--------------+\n",
      "|         0.0|          40.0|\n",
      "|         0.0|          13.0|\n",
      "|         0.0|          40.0|\n",
      "|         0.0|          40.0|\n",
      "|         0.0|          40.0|\n",
      "|         0.0|          40.0|\n",
      "|         0.0|          16.0|\n",
      "|         0.0|          45.0|\n",
      "|         0.0|          50.0|\n",
      "|         0.0|          40.0|\n",
      "|         0.0|          80.0|\n",
      "|         0.0|          40.0|\n",
      "|         0.0|          30.0|\n",
      "|         0.0|          50.0|\n",
      "|         0.0|          40.0|\n",
      "|         0.0|          45.0|\n",
      "|         0.0|          35.0|\n",
      "|         0.0|          40.0|\n",
      "|         0.0|          50.0|\n",
      "|         0.0|          45.0|\n",
      "+------------+--------------+\n",
      "\n"
     ]
    }
   ],
   "source": [
    "df[df.columns[:9]].show()\n",
    "df[df.columns[9:]].show()"
   ]
  },
  {
   "cell_type": "code",
   "execution_count": 157,
   "metadata": {},
   "outputs": [],
   "source": [
    "categoricalColumns = [\"education\", \"marital_status\", \"relationship\", \"race\", \"sex\"]\n",
    "numericCols = [\"age\", \"fnlwgt\", \"education_num\", \"capital_gain\", \"capital_loss\", \"hours_per_week\"]"
   ]
  },
  {
   "cell_type": "markdown",
   "metadata": {},
   "source": [
    "## String Indexer and OneHotEncoderEstimator\n",
    "\n",
    "1. Category Indexing with StringIndexer (Different categories are converted to indexes according to their usage frequency)\n",
    "\n",
    "2. Use OneHotEncoder to convert categorical variables into binary SparseVectors\n",
    "\n",
    "3. Add stages.  These are not run here, but will run all at once later on for Pipeline.\n",
    "4. Convert label into label indices using the StringIndexer"
   ]
  },
  {
   "cell_type": "code",
   "execution_count": 112,
   "metadata": {},
   "outputs": [],
   "source": [
    "stages = [] #stages in our Pipeline"
   ]
  },
  {
   "cell_type": "code",
   "execution_count": 113,
   "metadata": {},
   "outputs": [],
   "source": [
    "for categoricalCol in categoricalColumns:\n",
    "    \n",
    "    stringIndexer = StringIndexer(inputCol=categoricalCol, outputCol=categoricalCol + \"Index\")\n",
    "    \n",
    "    # encoder = OneHotEncoderEstimator(inputCol=categoricalCol + \"Index\", outputCol=categoricalCol + \"classVec\")\n",
    "    encoder = OneHotEncoderEstimator(inputCols=[stringIndexer.getOutputCol()], outputCols=[categoricalCol + \"classVec\"])\n",
    "    \n",
    "    stages += [stringIndexer,encoder]\n",
    "    \n",
    "#\"\"\"label_stringIdx = StringIndexer(inputCol=\"income\", outputCol=\"label\")\n",
    "#stages += [label_stringIdx]\"\"\""
   ]
  },
  {
   "cell_type": "markdown",
   "metadata": {},
   "source": [
    "## PipeLine"
   ]
  },
  {
   "cell_type": "code",
   "execution_count": 125,
   "metadata": {},
   "outputs": [],
   "source": [
    "partialPipeline = Pipeline().setStages(stages)\n",
    "pipelineModel = partialPipeline.fit(df)\n",
    "preppedDataDF = pipelineModel.transform(df)"
   ]
  },
  {
   "cell_type": "code",
   "execution_count": 115,
   "metadata": {},
   "outputs": [
    {
     "name": "stdout",
     "output_type": "stream",
     "text": [
      "+-------------+--------------+-----------------+--------------------+-------------------+----------------------+\n",
      "|    education|educationIndex|educationclassVec|      marital_status|marital_statusIndex|marital_statusclassVec|\n",
      "+-------------+--------------+-----------------+--------------------+-------------------+----------------------+\n",
      "|    Bachelors|           0.0|    (8,[0],[1.0])|       Never-married|                1.0|         (3,[1],[1.0])|\n",
      "|    Bachelors|           0.0|    (8,[0],[1.0])|  Married-civ-spouse|                0.0|         (3,[0],[1.0])|\n",
      "|      HS-grad|           1.0|    (8,[1],[1.0])|            Divorced|                2.0|         (3,[2],[1.0])|\n",
      "|         11th|           3.0|    (8,[3],[1.0])|  Married-civ-spouse|                0.0|         (3,[0],[1.0])|\n",
      "|    Bachelors|           0.0|    (8,[0],[1.0])|  Married-civ-spouse|                0.0|         (3,[0],[1.0])|\n",
      "|      Masters|           2.0|    (8,[2],[1.0])|  Married-civ-spouse|                0.0|         (3,[0],[1.0])|\n",
      "|          9th|           4.0|    (8,[4],[1.0])| Married-spouse-a...|                3.0|             (3,[],[])|\n",
      "|      HS-grad|           1.0|    (8,[1],[1.0])|  Married-civ-spouse|                0.0|         (3,[0],[1.0])|\n",
      "|      Masters|           2.0|    (8,[2],[1.0])|       Never-married|                1.0|         (3,[1],[1.0])|\n",
      "|    Bachelors|           0.0|    (8,[0],[1.0])|  Married-civ-spouse|                0.0|         (3,[0],[1.0])|\n",
      "| Some-college|           8.0|        (8,[],[])|  Married-civ-spouse|                0.0|         (3,[0],[1.0])|\n",
      "|    Bachelors|           0.0|    (8,[0],[1.0])|  Married-civ-spouse|                0.0|         (3,[0],[1.0])|\n",
      "|    Bachelors|           0.0|    (8,[0],[1.0])|       Never-married|                1.0|         (3,[1],[1.0])|\n",
      "|   Assoc-acdm|           7.0|    (8,[7],[1.0])|       Never-married|                1.0|         (3,[1],[1.0])|\n",
      "|    Assoc-voc|           5.0|    (8,[5],[1.0])|  Married-civ-spouse|                0.0|         (3,[0],[1.0])|\n",
      "|      7th-8th|           6.0|    (8,[6],[1.0])|  Married-civ-spouse|                0.0|         (3,[0],[1.0])|\n",
      "|      HS-grad|           1.0|    (8,[1],[1.0])|       Never-married|                1.0|         (3,[1],[1.0])|\n",
      "|      HS-grad|           1.0|    (8,[1],[1.0])|       Never-married|                1.0|         (3,[1],[1.0])|\n",
      "|         11th|           3.0|    (8,[3],[1.0])|  Married-civ-spouse|                0.0|         (3,[0],[1.0])|\n",
      "|      Masters|           2.0|    (8,[2],[1.0])|            Divorced|                2.0|         (3,[2],[1.0])|\n",
      "+-------------+--------------+-----------------+--------------------+-------------------+----------------------+\n",
      "\n",
      "+--------------+-----------------+-------------------+----------------------+\n",
      "|educationIndex|educationclassVec|marital_statusIndex|marital_statusclassVec|\n",
      "+--------------+-----------------+-------------------+----------------------+\n",
      "|           0.0|    (8,[0],[1.0])|                1.0|         (3,[1],[1.0])|\n",
      "|           0.0|    (8,[0],[1.0])|                0.0|         (3,[0],[1.0])|\n",
      "|           1.0|    (8,[1],[1.0])|                2.0|         (3,[2],[1.0])|\n",
      "|           3.0|    (8,[3],[1.0])|                0.0|         (3,[0],[1.0])|\n",
      "|           0.0|    (8,[0],[1.0])|                0.0|         (3,[0],[1.0])|\n",
      "|           2.0|    (8,[2],[1.0])|                0.0|         (3,[0],[1.0])|\n",
      "|           4.0|    (8,[4],[1.0])|                3.0|             (3,[],[])|\n",
      "|           1.0|    (8,[1],[1.0])|                0.0|         (3,[0],[1.0])|\n",
      "|           2.0|    (8,[2],[1.0])|                1.0|         (3,[1],[1.0])|\n",
      "|           0.0|    (8,[0],[1.0])|                0.0|         (3,[0],[1.0])|\n",
      "|           8.0|        (8,[],[])|                0.0|         (3,[0],[1.0])|\n",
      "|           0.0|    (8,[0],[1.0])|                0.0|         (3,[0],[1.0])|\n",
      "|           0.0|    (8,[0],[1.0])|                1.0|         (3,[1],[1.0])|\n",
      "|           7.0|    (8,[7],[1.0])|                1.0|         (3,[1],[1.0])|\n",
      "|           5.0|    (8,[5],[1.0])|                0.0|         (3,[0],[1.0])|\n",
      "|           6.0|    (8,[6],[1.0])|                0.0|         (3,[0],[1.0])|\n",
      "|           1.0|    (8,[1],[1.0])|                1.0|         (3,[1],[1.0])|\n",
      "|           1.0|    (8,[1],[1.0])|                1.0|         (3,[1],[1.0])|\n",
      "|           3.0|    (8,[3],[1.0])|                0.0|         (3,[0],[1.0])|\n",
      "|           2.0|    (8,[2],[1.0])|                2.0|         (3,[2],[1.0])|\n",
      "+--------------+-----------------+-------------------+----------------------+\n",
      "\n",
      "+-----------------+--------------------+---------+-------------+--------+-------------+\n",
      "|relationshipIndex|relationshipclassVec|raceIndex| raceclassVec|sexIndex|  sexclassVec|\n",
      "+-----------------+--------------------+---------+-------------+--------+-------------+\n",
      "|              1.0|       (6,[1],[1.0])|      0.0|(3,[0],[1.0])|     0.0|(1,[0],[1.0])|\n",
      "|              0.0|       (6,[0],[1.0])|      0.0|(3,[0],[1.0])|     0.0|(1,[0],[1.0])|\n",
      "|              5.0|       (6,[5],[1.0])|      0.0|(3,[0],[1.0])|     0.0|(1,[0],[1.0])|\n",
      "|              0.0|       (6,[0],[1.0])|      1.0|(3,[1],[1.0])|     0.0|(1,[0],[1.0])|\n",
      "|              3.0|       (6,[3],[1.0])|      1.0|(3,[1],[1.0])|     1.0|    (1,[],[])|\n",
      "|              3.0|       (6,[3],[1.0])|      0.0|(3,[0],[1.0])|     1.0|    (1,[],[])|\n",
      "|              1.0|       (6,[1],[1.0])|      1.0|(3,[1],[1.0])|     1.0|    (1,[],[])|\n",
      "|              6.0|           (6,[],[])|      0.0|(3,[0],[1.0])|     0.0|(1,[0],[1.0])|\n",
      "|              1.0|       (6,[1],[1.0])|      0.0|(3,[0],[1.0])|     1.0|    (1,[],[])|\n",
      "|              0.0|       (6,[0],[1.0])|      0.0|(3,[0],[1.0])|     0.0|(1,[0],[1.0])|\n",
      "|              0.0|       (6,[0],[1.0])|      1.0|(3,[1],[1.0])|     0.0|(1,[0],[1.0])|\n",
      "|              0.0|       (6,[0],[1.0])|      2.0|(3,[2],[1.0])|     0.0|(1,[0],[1.0])|\n",
      "|              2.0|       (6,[2],[1.0])|      0.0|(3,[0],[1.0])|     1.0|    (1,[],[])|\n",
      "|              1.0|       (6,[1],[1.0])|      1.0|(3,[1],[1.0])|     0.0|(1,[0],[1.0])|\n",
      "|              0.0|       (6,[0],[1.0])|      2.0|(3,[2],[1.0])|     0.0|(1,[0],[1.0])|\n",
      "|              0.0|       (6,[0],[1.0])|      3.0|    (3,[],[])|     0.0|(1,[0],[1.0])|\n",
      "|              2.0|       (6,[2],[1.0])|      0.0|(3,[0],[1.0])|     0.0|(1,[0],[1.0])|\n",
      "|              4.0|       (6,[4],[1.0])|      0.0|(3,[0],[1.0])|     0.0|(1,[0],[1.0])|\n",
      "|              0.0|       (6,[0],[1.0])|      0.0|(3,[0],[1.0])|     0.0|(1,[0],[1.0])|\n",
      "|              4.0|       (6,[4],[1.0])|      0.0|(3,[0],[1.0])|     1.0|    (1,[],[])|\n",
      "+-----------------+--------------------+---------+-------------+--------+-------------+\n",
      "\n"
     ]
    }
   ],
   "source": [
    "preppedDataDF.select(\"education\", \"educationIndex\",\"educationclassVec\", \"marital_status\", \"marital_statusIndex\", \"marital_statusclassVec\").show()\n",
    "preppedDataDF[preppedDataDF.columns[11:15]].show()\n",
    "preppedDataDF[preppedDataDF.columns[15:]].show()"
   ]
  },
  {
   "cell_type": "markdown",
   "metadata": {},
   "source": [
    "## Vector Assembler\n",
    "\n",
    "Transform all features into a vector using VectorAssembler"
   ]
  },
  {
   "cell_type": "code",
   "execution_count": 191,
   "metadata": {},
   "outputs": [],
   "source": [
    "numericCols = [\"age\", \"fnlwgt\", \"education_num\", \"capital_gain\", \"capital_loss\", \"hours_per_week\"]\n",
    "assemblerInputs = numericCols\n",
    "assembler = VectorAssembler(inputCols=assemblerInputs, outputCol=\"features\")\n",
    "stages2 = [assembler]\n",
    "\n",
    "partialPipeline = Pipeline().setStages(stages2)\n",
    "pipelineModel = partialPipeline.fit(df)\n",
    "preppedDataDF2 = pipelineModel.transform(df)"
   ]
  },
  {
   "cell_type": "code",
   "execution_count": 118,
   "metadata": {},
   "outputs": [
    {
     "name": "stdout",
     "output_type": "stream",
     "text": [
      "+---+--------+-------------+------------+------------+--------------+------------------------------------+\n",
      "|age|fnlwgt  |education_num|capital_gain|capital_loss|hours_per_week|features                            |\n",
      "+---+--------+-------------+------------+------------+--------------+------------------------------------+\n",
      "|39 |77516.0 |13.0         |2174.0      |0.0         |40.0          |[39.0,77516.0,13.0,2174.0,0.0,40.0] |\n",
      "|50 |83311.0 |13.0         |0.0         |0.0         |13.0          |[50.0,83311.0,13.0,0.0,0.0,13.0]    |\n",
      "|38 |215646.0|9.0          |0.0         |0.0         |40.0          |[38.0,215646.0,9.0,0.0,0.0,40.0]    |\n",
      "|53 |234721.0|7.0          |0.0         |0.0         |40.0          |[53.0,234721.0,7.0,0.0,0.0,40.0]    |\n",
      "|28 |338409.0|13.0         |0.0         |0.0         |40.0          |[28.0,338409.0,13.0,0.0,0.0,40.0]   |\n",
      "|37 |284582.0|14.0         |0.0         |0.0         |40.0          |[37.0,284582.0,14.0,0.0,0.0,40.0]   |\n",
      "|49 |160187.0|5.0          |0.0         |0.0         |16.0          |[49.0,160187.0,5.0,0.0,0.0,16.0]    |\n",
      "|52 |209642.0|9.0          |0.0         |0.0         |45.0          |[52.0,209642.0,9.0,0.0,0.0,45.0]    |\n",
      "|31 |45781.0 |14.0         |14084.0     |0.0         |50.0          |[31.0,45781.0,14.0,14084.0,0.0,50.0]|\n",
      "|42 |159449.0|13.0         |5178.0      |0.0         |40.0          |[42.0,159449.0,13.0,5178.0,0.0,40.0]|\n",
      "|37 |280464.0|10.0         |0.0         |0.0         |80.0          |[37.0,280464.0,10.0,0.0,0.0,80.0]   |\n",
      "|30 |141297.0|13.0         |0.0         |0.0         |40.0          |[30.0,141297.0,13.0,0.0,0.0,40.0]   |\n",
      "|23 |122272.0|13.0         |0.0         |0.0         |30.0          |[23.0,122272.0,13.0,0.0,0.0,30.0]   |\n",
      "|32 |205019.0|12.0         |0.0         |0.0         |50.0          |[32.0,205019.0,12.0,0.0,0.0,50.0]   |\n",
      "|40 |121772.0|11.0         |0.0         |0.0         |40.0          |[40.0,121772.0,11.0,0.0,0.0,40.0]   |\n",
      "|34 |245487.0|4.0          |0.0         |0.0         |45.0          |[34.0,245487.0,4.0,0.0,0.0,45.0]    |\n",
      "|25 |176756.0|9.0          |0.0         |0.0         |35.0          |[25.0,176756.0,9.0,0.0,0.0,35.0]    |\n",
      "|32 |186824.0|9.0          |0.0         |0.0         |40.0          |[32.0,186824.0,9.0,0.0,0.0,40.0]    |\n",
      "|38 |28887.0 |7.0          |0.0         |0.0         |50.0          |[38.0,28887.0,7.0,0.0,0.0,50.0]     |\n",
      "|43 |292175.0|14.0         |0.0         |0.0         |45.0          |[43.0,292175.0,14.0,0.0,0.0,45.0]   |\n",
      "+---+--------+-------------+------------+------------+--------------+------------------------------------+\n",
      "\n"
     ]
    }
   ],
   "source": [
    "selectedColumns = [t[0] for t in preppedDataDF2.dtypes if t[1]==\"int\" or t[1]==\"float\" or t[1]==\"vector\"]\n",
    "\n",
    "preppedDataDF2[selectedColumns].show(truncate=False)"
   ]
  },
  {
   "cell_type": "markdown",
   "metadata": {},
   "source": [
    "## MinMaxScaler\n",
    "\n",
    "Relevant columns should be vectorized before running the function"
   ]
  },
  {
   "cell_type": "code",
   "execution_count": 10,
   "metadata": {},
   "outputs": [
    {
     "name": "stdout",
     "output_type": "stream",
     "text": [
      "+--------------+------+---------------------+\n",
      "|hours_per_week|vector|scaled_hours_per_week|\n",
      "+--------------+------+---------------------+\n",
      "|40.0          |[40.0]|[40.298507462686565] |\n",
      "|13.0          |[13.0]|[0.0]                |\n",
      "|40.0          |[40.0]|[40.298507462686565] |\n",
      "|40.0          |[40.0]|[40.298507462686565] |\n",
      "|40.0          |[40.0]|[40.298507462686565] |\n",
      "|40.0          |[40.0]|[40.298507462686565] |\n",
      "|16.0          |[16.0]|[4.477611940298507]  |\n",
      "|45.0          |[45.0]|[47.76119402985074]  |\n",
      "|50.0          |[50.0]|[55.223880597014926] |\n",
      "|40.0          |[40.0]|[40.298507462686565] |\n",
      "|80.0          |[80.0]|[100.0]              |\n",
      "|40.0          |[40.0]|[40.298507462686565] |\n",
      "|30.0          |[30.0]|[25.37313432835821]  |\n",
      "|50.0          |[50.0]|[55.223880597014926] |\n",
      "|40.0          |[40.0]|[40.298507462686565] |\n",
      "|45.0          |[45.0]|[47.76119402985074]  |\n",
      "|35.0          |[35.0]|[32.83582089552239]  |\n",
      "|40.0          |[40.0]|[40.298507462686565] |\n",
      "|50.0          |[50.0]|[55.223880597014926] |\n",
      "|45.0          |[45.0]|[47.76119402985074]  |\n",
      "+--------------+------+---------------------+\n",
      "\n"
     ]
    }
   ],
   "source": [
    "assembler = VectorAssembler(inputCols = [\"hours_per_week\"], outputCol = \"vector\")\n",
    "stage = [assembler]\n",
    "partialPipeline = Pipeline().setStages(stage)\n",
    "pipelineModel = partialPipeline.fit(df)\n",
    "newdf = pipelineModel.transform(df)\n",
    "\n",
    "column2 = \"vector\"\n",
    "mmScaler = MinMaxScaler(min = 0, max = 100, inputCol = column2, outputCol = \"Scaled_hours_per_week\")\n",
    "model = mmScaler.fit(newdf)\n",
    "scaledDF = model.transform(newdf)\n",
    "\n",
    "scaledDF.select(\"hours_per_week\", \"vector\", \"scaled_hours_per_week\").show(truncate = False)\n"
   ]
  },
  {
   "cell_type": "markdown",
   "metadata": {},
   "source": [
    "References:  \n",
    "https://docs.databricks.com/spark/latest/mllib/binary-classification-mllib-pipelines.html  \n",
    "http://spark.apache.org/docs/2.4.0/api/python/pyspark.ml.html#module-pyspark.ml.feature"
   ]
  }
 ],
 "metadata": {
  "kernelspec": {
   "display_name": "Python 3",
   "language": "python",
   "name": "python3"
  },
  "language_info": {
   "codemirror_mode": {
    "name": "ipython",
    "version": 3
   },
   "file_extension": ".py",
   "mimetype": "text/x-python",
   "name": "python",
   "nbconvert_exporter": "python",
   "pygments_lexer": "ipython3",
   "version": "3.7.1"
  }
 },
 "nbformat": 4,
 "nbformat_minor": 2
}
